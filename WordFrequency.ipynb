{
  "nbformat": 4,
  "nbformat_minor": 0,
  "metadata": {
    "colab": {
      "name": "WordFrequency.ipynb",
      "provenance": [],
      "collapsed_sections": []
    },
    "kernelspec": {
      "name": "python3",
      "display_name": "Python 3"
    },
    "accelerator": "GPU"
  },
  "cells": [
    {
      "cell_type": "code",
      "metadata": {
        "id": "FAaBEUTxGuQp",
        "colab_type": "code",
        "colab": {}
      },
      "source": [
        "import pandas as pd\n",
        "import numpy as np\n",
        "import tensorflow as tf\n",
        "print(tf.__version__)"
      ],
      "execution_count": 0,
      "outputs": []
    },
    {
      "cell_type": "code",
      "metadata": {
        "id": "kt9OkX5zG1r9",
        "colab_type": "code",
        "colab": {}
      },
      "source": [
        "from google.colab import drive\n",
        "drive.mount(\"/gdrive\")"
      ],
      "execution_count": 0,
      "outputs": []
    },
    {
      "cell_type": "code",
      "metadata": {
        "id": "ZAVDGHD-G4QF",
        "colab_type": "code",
        "colab": {}
      },
      "source": [
        "train_df = pd.read_csv(\"/gdrive/My Drive/Colab Notebooks/train.tsv\", delimiter='\\t',nrows=10000)\n",
        "test_df = pd.read_csv(\"/gdrive/My Drive/Colab Notebooks/test.tsv\", delimiter='\\t',nrows=10000)"
      ],
      "execution_count": 0,
      "outputs": []
    },
    {
      "cell_type": "code",
      "metadata": {
        "id": "cTuKsXpCHSGE",
        "colab_type": "code",
        "colab": {}
      },
      "source": [
        "train_df.head()"
      ],
      "execution_count": 0,
      "outputs": []
    },
    {
      "cell_type": "code",
      "metadata": {
        "id": "RGE6CXCzHXDl",
        "colab_type": "code",
        "colab": {}
      },
      "source": [
        "train_df[\"Phrase\"] = train_df[\"Phrase\"].str.replace('[^A-Za-z]', ' ')"
      ],
      "execution_count": 0,
      "outputs": []
    },
    {
      "cell_type": "code",
      "metadata": {
        "id": "E7IjUVOFJXYl",
        "colab_type": "code",
        "colab": {}
      },
      "source": [
        ""
      ],
      "execution_count": 0,
      "outputs": []
    },
    {
      "cell_type": "code",
      "metadata": {
        "id": "5SNC17w_HZUK",
        "colab_type": "code",
        "colab": {}
      },
      "source": [
        "#!pip install vaderSentiment"
      ],
      "execution_count": 0,
      "outputs": []
    },
    {
      "cell_type": "code",
      "metadata": {
        "id": "g3lNhIEaHiNJ",
        "colab_type": "code",
        "colab": {}
      },
      "source": [
        "import nltk\n",
        "nltk.download('punkt')\n",
        "nltk.download('vader_lexicon')\n",
        "nltk.download('stopwords')"
      ],
      "execution_count": 0,
      "outputs": []
    },
    {
      "cell_type": "code",
      "metadata": {
        "id": "iponHXT6HoZ9",
        "colab_type": "code",
        "colab": {}
      },
      "source": [
        "from vaderSentiment.vaderSentiment import SentimentIntensityAnalyzer\n",
        "from nltk.tokenize import word_tokenize\n",
        "from nltk.corpus import stopwords"
      ],
      "execution_count": 0,
      "outputs": []
    },
    {
      "cell_type": "code",
      "metadata": {
        "id": "fQRbqPmDIMH1",
        "colab_type": "code",
        "colab": {}
      },
      "source": [
        "sentiment_Analyzer = SentimentIntensityAnalyzer()"
      ],
      "execution_count": 0,
      "outputs": []
    },
    {
      "cell_type": "code",
      "metadata": {
        "id": "4Ugnk6CUIcHP",
        "colab_type": "code",
        "colab": {}
      },
      "source": [
        "positive_word =[]\n",
        "negative_word =[]\n",
        "\n",
        "def positive_negative_words(text):\n",
        "  text = text.lower()\n",
        "  tokenized_text = word_tokenize(text)\n",
        "  tokenized_text = [word for word in tokenized_text if word not in stopwords.words()]\n",
        "\n",
        "  for word in tokenized_text:\n",
        "    if (sentiment_Analyzer.polarity_scores(word)['compound']) >=0.1:\n",
        "      positive_word.append(word)\n",
        "    else:\n",
        "      negative_word.append(word)"
      ],
      "execution_count": 0,
      "outputs": []
    },
    {
      "cell_type": "code",
      "metadata": {
        "id": "j9h34aOBKqGy",
        "colab_type": "code",
        "colab": {}
      },
      "source": [
        "train_df.shape"
      ],
      "execution_count": 0,
      "outputs": []
    },
    {
      "cell_type": "code",
      "metadata": {
        "id": "YbI78PSfLHGM",
        "colab_type": "code",
        "colab": {}
      },
      "source": [
        "for i in range(train_df.shape[0]):\n",
        "  positive_negative_words(train_df['Phrase'][i])"
      ],
      "execution_count": 0,
      "outputs": []
    },
    {
      "cell_type": "code",
      "metadata": {
        "id": "TePYkLboTJjj",
        "colab_type": "code",
        "colab": {}
      },
      "source": [
        "from collections import Counter"
      ],
      "execution_count": 0,
      "outputs": []
    },
    {
      "cell_type": "code",
      "metadata": {
        "id": "nR4GFodaVMrU",
        "colab_type": "code",
        "colab": {}
      },
      "source": [
        "positive_freq = Counter(positive_word)\n",
        "negative_freq = Counter(negative_word)"
      ],
      "execution_count": 0,
      "outputs": []
    },
    {
      "cell_type": "code",
      "metadata": {
        "id": "0a2hSu3uVXSS",
        "colab_type": "code",
        "colab": {}
      },
      "source": [
        "pos_df = pd.DataFrame(positive_freq.items())\n",
        "neg_df = pd.DataFrame(negative_freq.items())"
      ],
      "execution_count": 0,
      "outputs": []
    },
    {
      "cell_type": "code",
      "metadata": {
        "id": "L50illafYG-d",
        "colab_type": "code",
        "colab": {}
      },
      "source": [
        "pos_df_filtered = pos_df[pos_df[1] >50]\n",
        "pos_df_filtered.head()"
      ],
      "execution_count": 0,
      "outputs": []
    },
    {
      "cell_type": "code",
      "metadata": {
        "id": "0GhNLM_kYSxe",
        "colab_type": "code",
        "colab": {}
      },
      "source": [
        "neg_df_filtered = neg_df[neg_df[1] >50]\n",
        "neg_df_filtered.head()"
      ],
      "execution_count": 0,
      "outputs": []
    },
    {
      "cell_type": "code",
      "metadata": {
        "id": "whvIZWPzVxOo",
        "colab_type": "code",
        "colab": {}
      },
      "source": [
        "import matplotlib.pyplot as plt\n"
      ],
      "execution_count": 0,
      "outputs": []
    },
    {
      "cell_type": "code",
      "metadata": {
        "id": "NeA4BCCOV7Sh",
        "colab_type": "code",
        "colab": {}
      },
      "source": [
        "plt.figure(figsize=(30,10))\n",
        "plt.scatter(x=pos_df_filtered[0], y=pos_df_filtered[1])"
      ],
      "execution_count": 0,
      "outputs": []
    },
    {
      "cell_type": "code",
      "metadata": {
        "id": "Ww0yny5UXYOl",
        "colab_type": "code",
        "colab": {}
      },
      "source": [
        "plt.figure(figsize=(30,10))\n",
        "plt.scatter(x=neg_df_filtered[0], y=neg_df_filtered[1])"
      ],
      "execution_count": 0,
      "outputs": []
    },
    {
      "cell_type": "code",
      "metadata": {
        "id": "fz9GXqCBYBPz",
        "colab_type": "code",
        "colab": {}
      },
      "source": [
        ""
      ],
      "execution_count": 0,
      "outputs": []
    }
  ]
}